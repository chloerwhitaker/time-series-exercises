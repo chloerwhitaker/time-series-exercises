{
 "cells": [
  {
   "cell_type": "code",
   "execution_count": 18,
   "id": "74686e75",
   "metadata": {},
   "outputs": [],
   "source": [
    "def clean_items_stores_sales(): \n",
    "   \n",
    "    import pandas as pd\n",
    "    from datetime import timedelta, datetime\n",
    "    import numpy as np\n",
    "    import matplotlib.pyplot as plt\n",
    "    from acquire import merge_items_stores_sales\n",
    "    \n",
    "    # get df\n",
    "    items_stores_sales = merge_items_stores_sales()\n",
    "    \n",
    "    # convert the sale_date column in our df to pandas datetime object\n",
    "    items_stores_sales['sale_date'] = pd.to_datetime(items_stores_sales.sale_date)\n",
    "    \n",
    "    # show dist using histograms\n",
    "    items_stores_sales[['sale_amount', 'item_price']].hist(figsize=(12,8))\n",
    "    \n",
    "    # set index to sale_date\n",
    "    items_stores_sales = items_stores_sales.set_index('sale_date').sort_index()\n",
    "    \n",
    "    # add month as a column\n",
    "    items_stores_sales['month'] = items_stores_sales.index.month_name()\n",
    "    \n",
    "    # add day_of_week as column\n",
    "    items_stores_sales['day_of_week'] = items_stores_sales.index.day_name()\n",
    "    \n",
    "    # multiply sale_amount and item_price to get sales_total column\n",
    "    items_stores_sales['sales_total'] = items_stores_sales['sale_amount'] * items_stores_sales['item_price']\n",
    "\n",
    "    \n",
    "    return items_stores_sales\n",
    "    \n",
    "    \n"
   ]
  },
  {
   "cell_type": "code",
   "execution_count": 27,
   "id": "9341116d",
   "metadata": {},
   "outputs": [],
   "source": [
    "# items_stores_sales = clean_items_stores_sales()"
   ]
  },
  {
   "cell_type": "code",
   "execution_count": 26,
   "id": "42d35f77",
   "metadata": {},
   "outputs": [],
   "source": [
    "# items_stores_sales.head(1)"
   ]
  },
  {
   "cell_type": "code",
   "execution_count": 21,
   "id": "b7a90bac",
   "metadata": {},
   "outputs": [],
   "source": [
    "def clean_germany_power_data(): \n",
    "    \n",
    "    import pandas as pd\n",
    "    from datetime import timedelta, datetime\n",
    "    import numpy as np\n",
    "    import matplotlib.pyplot as plt\n",
    "    from acquire import get_germany_power_csv\n",
    "    \n",
    "    # get df\n",
    "    germany_power_data = get_germany_power_csv()\n",
    "    \n",
    "    # convert the Date column in our df to pandas datetime object\n",
    "    germany_power_data['Date'] = pd.to_datetime(germany_power_data.Date)\n",
    "    \n",
    "    # show dist using histograms\n",
    "    germany_power_data.hist(figsize=(20,15));\n",
    "    \n",
    "    # set index to Date\n",
    "    germany_power_data = germany_power_data.set_index('Date').sort_index()\n",
    "    \n",
    "    # add month as column\n",
    "    germany_power_data['month'] = germany_power_data.index.month_name()\n",
    "    \n",
    "    # add year as column\n",
    "    germany_power_data['year'] = germany_power_data.index.year\n",
    "    \n",
    "    # fillna to fill missing values\n",
    "    germany_power_data.fillna(0, inplace=True)\n",
    "\n",
    "    return germany_power_data\n",
    "    \n",
    "    \n",
    "    "
   ]
  },
  {
   "cell_type": "code",
   "execution_count": 25,
   "id": "c932f6c5",
   "metadata": {},
   "outputs": [],
   "source": [
    "# germany_power_data = clean_germany_power_data()"
   ]
  },
  {
   "cell_type": "code",
   "execution_count": 24,
   "id": "a6951bc7",
   "metadata": {},
   "outputs": [],
   "source": [
    "# germany_power_data.head()"
   ]
  },
  {
   "cell_type": "code",
   "execution_count": null,
   "id": "02ee9a59",
   "metadata": {},
   "outputs": [],
   "source": []
  }
 ],
 "metadata": {
  "kernelspec": {
   "display_name": "Python 3",
   "language": "python",
   "name": "python3"
  },
  "language_info": {
   "codemirror_mode": {
    "name": "ipython",
    "version": 3
   },
   "file_extension": ".py",
   "mimetype": "text/x-python",
   "name": "python",
   "nbconvert_exporter": "python",
   "pygments_lexer": "ipython3",
   "version": "3.8.8"
  }
 },
 "nbformat": 4,
 "nbformat_minor": 5
}
